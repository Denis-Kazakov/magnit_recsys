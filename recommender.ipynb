{
 "cells": [
  {
   "cell_type": "code",
   "execution_count": 3,
   "id": "3b658e2c",
   "metadata": {},
   "outputs": [],
   "source": [
    "import sys\n",
    "import pandas as pd\n",
    "from surprise.dump import load\n",
    "\n",
    "\n",
    "# Data for the recommendation model\n",
    "train = pd.read_csv('my_project/model/train_joke_df.csv')\n",
    "test = pd.read_csv('my_project/model/test_joke_df_nofactrating.csv', index_col='InteractionID')\n",
    "full = pd.concat((train, test), axis=0, join='outer', ignore_index=True)\n",
    "\n",
    "model = load('my_project/model/model_svd')[1]\n",
    "\n",
    "def prediction(JID, UID):\n",
    "    return model.predict(str(int(UID)), str(int(JID))).est\n",
    "\n",
    "\n",
    "def ranking(uid, downrate=10):\n",
    "    '''Joke ratings for a specific user'''\n",
    "    result = pd.DataFrame({'JID': range(1, 101)})\n",
    "    # Ratings predicted by the model\n",
    "    result['predicted_rating'] = result.JID.apply(prediction, UID=uid)\n",
    "\n",
    "    # Add true ratings\n",
    "    true_ratings = train.query('UID == @uid').drop(columns='UID')\n",
    "    result = result.merge(true_ratings, how='left', on='JID')\n",
    "    missing = result.Rating.isna()\n",
    "    result.loc[missing, 'Rating'] = result.loc[missing, 'predicted_rating']\n",
    "\n",
    "    best_joke_index = result.Rating.idxmax()\n",
    "    best_joke_number = result.JID[best_joke_index]\n",
    "    best_joke_rating = result.Rating[best_joke_index]\n",
    "\n",
    "    #Downrate jokes that have already been rated\n",
    "    rated = full.query('UID == @uid').drop(columns=['UID', 'Rating'])\n",
    "    rated['downrate'] = downrate\n",
    "    result = result.merge(rated, how='left', on='JID')\n",
    "    result.fillna(0, inplace=True)\n",
    "    result.loc[:, 'Rating'] = result.Rating - result.downrate\n",
    "\n",
    "    # Select top 10 jokes to recommend\n",
    "    result.sort_values(by='Rating', ascending=False, inplace=True)\n",
    "    top10 =  result.JID.iloc[0:10].tolist()\n",
    "    return [{best_joke_number: best_joke_rating}, top10]\n",
    "\n",
    "\n",
    "# path = 'my_project/data/' + sys.argv[1]\n",
    "path = 'my_project/data/test.csv'\n",
    "\n",
    "df = pd.read_csv(path, index_col=0)\n",
    "df['recommendations'] = df.UID.apply(ranking)\n",
    "df.to_csv('my_project/data/recommendations.csv')\n"
   ]
  }
 ],
 "metadata": {
  "kernelspec": {
   "display_name": "Python 3 (ipykernel)",
   "language": "python",
   "name": "python3"
  },
  "language_info": {
   "codemirror_mode": {
    "name": "ipython",
    "version": 3
   },
   "file_extension": ".py",
   "mimetype": "text/x-python",
   "name": "python",
   "nbconvert_exporter": "python",
   "pygments_lexer": "ipython3",
   "version": "3.11.3"
  }
 },
 "nbformat": 4,
 "nbformat_minor": 5
}
